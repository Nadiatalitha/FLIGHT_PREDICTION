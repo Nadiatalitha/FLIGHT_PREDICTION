{
 "cells": [
  {
   "cell_type": "markdown",
   "metadata": {},
   "source": [
    "Import Library"
   ]
  },
  {
   "cell_type": "code",
   "execution_count": null,
   "metadata": {},
   "outputs": [],
   "source": [
    "import pandas as pd \n",
    "import numpy as np \n",
    "import seaborn as sns \n",
    "import matplotlib.pyplot as plt"
   ]
  },
  {
   "cell_type": "code",
   "execution_count": 3,
   "metadata": {},
   "outputs": [
    {
     "name": "stdout",
     "output_type": "stream",
     "text": [
      "   Unnamed: 0   airline   flight source_city departure_time stops  \\\n",
      "0           0  SpiceJet  SG-8709       Delhi        Evening  zero   \n",
      "1           1  SpiceJet  SG-8157       Delhi  Early_Morning  zero   \n",
      "2           2   AirAsia   I5-764       Delhi  Early_Morning  zero   \n",
      "3           3   Vistara   UK-995       Delhi        Morning  zero   \n",
      "4           4   Vistara   UK-963       Delhi        Morning  zero   \n",
      "\n",
      "    arrival_time destination_city    class  duration  days_left  price  \n",
      "0          Night           Mumbai  Economy      2.17          1   5953  \n",
      "1        Morning           Mumbai  Economy      2.33          1   5953  \n",
      "2  Early_Morning           Mumbai  Economy      2.17          1   5956  \n",
      "3      Afternoon           Mumbai  Economy      2.25          1   5955  \n",
      "4        Morning           Mumbai  Economy      2.33          1   5955  \n"
     ]
    }
   ],
   "source": [
    "#load data\n",
    "df = pd.read_csv(\"datasets/flight_prediction.csv\")\n",
    "print(df.head())"
   ]
  },
  {
   "cell_type": "code",
   "execution_count": 5,
   "metadata": {},
   "outputs": [
    {
     "name": "stdout",
     "output_type": "stream",
     "text": [
      "<class 'pandas.core.frame.DataFrame'>\n",
      "RangeIndex: 300153 entries, 0 to 300152\n",
      "Data columns (total 12 columns):\n",
      " #   Column            Non-Null Count   Dtype  \n",
      "---  ------            --------------   -----  \n",
      " 0   Unnamed: 0        300153 non-null  int64  \n",
      " 1   airline           300153 non-null  object \n",
      " 2   flight            300153 non-null  object \n",
      " 3   source_city       300153 non-null  object \n",
      " 4   departure_time    300153 non-null  object \n",
      " 5   stops             300153 non-null  object \n",
      " 6   arrival_time      300153 non-null  object \n",
      " 7   destination_city  300153 non-null  object \n",
      " 8   class             300153 non-null  object \n",
      " 9   duration          300153 non-null  float64\n",
      " 10  days_left         300153 non-null  int64  \n",
      " 11  price             300153 non-null  int64  \n",
      "dtypes: float64(1), int64(3), object(8)\n",
      "memory usage: 27.5+ MB\n",
      "None\n",
      "Unnamed: 0          0\n",
      "airline             0\n",
      "flight              0\n",
      "source_city         0\n",
      "departure_time      0\n",
      "stops               0\n",
      "arrival_time        0\n",
      "destination_city    0\n",
      "class               0\n",
      "duration            0\n",
      "days_left           0\n",
      "price               0\n",
      "dtype: int64\n"
     ]
    }
   ],
   "source": [
    "print(df.info())\n",
    "print(df.isnull().sum())"
   ]
  },
  {
   "cell_type": "code",
   "execution_count": null,
   "metadata": {},
   "outputs": [],
   "source": [
    "#dropdown kolom yang gak perlu\n",
    "df.drop(columns=['Unnamed: 0', 'flight'], inplace=True)"
   ]
  },
  {
   "cell_type": "markdown",
   "metadata": {},
   "source": [
    "One-hot encoding"
   ]
  },
  {
   "cell_type": "code",
   "execution_count": 7,
   "metadata": {},
   "outputs": [],
   "source": [
    "#encode kolom kategori jadi angka pake pd.get_dummies()\n",
    "df = pd.get_dummies(df, columns=['airline', 'source_city', 'departure_time', 'stops', 'arrival_time', 'destination_city', 'class'], drop_first=True)\n"
   ]
  },
  {
   "cell_type": "code",
   "execution_count": 8,
   "metadata": {},
   "outputs": [
    {
     "name": "stdout",
     "output_type": "stream",
     "text": [
      "   duration  days_left  price  airline_Air_India  airline_GO_FIRST  \\\n",
      "0      2.17          1   5953              False             False   \n",
      "1      2.33          1   5953              False             False   \n",
      "2      2.17          1   5956              False             False   \n",
      "3      2.25          1   5955              False             False   \n",
      "4      2.33          1   5955              False             False   \n",
      "\n",
      "   airline_Indigo  airline_SpiceJet  airline_Vistara  source_city_Chennai  \\\n",
      "0           False              True            False                False   \n",
      "1           False              True            False                False   \n",
      "2           False             False            False                False   \n",
      "3           False             False             True                False   \n",
      "4           False             False             True                False   \n",
      "\n",
      "   source_city_Delhi  ...  arrival_time_Evening  arrival_time_Late_Night  \\\n",
      "0               True  ...                 False                    False   \n",
      "1               True  ...                 False                    False   \n",
      "2               True  ...                 False                    False   \n",
      "3               True  ...                 False                    False   \n",
      "4               True  ...                 False                    False   \n",
      "\n",
      "   arrival_time_Morning  arrival_time_Night  destination_city_Chennai  \\\n",
      "0                 False                True                     False   \n",
      "1                  True               False                     False   \n",
      "2                 False               False                     False   \n",
      "3                 False               False                     False   \n",
      "4                  True               False                     False   \n",
      "\n",
      "   destination_city_Delhi  destination_city_Hyderabad  \\\n",
      "0                   False                       False   \n",
      "1                   False                       False   \n",
      "2                   False                       False   \n",
      "3                   False                       False   \n",
      "4                   False                       False   \n",
      "\n",
      "   destination_city_Kolkata  destination_city_Mumbai  class_Economy  \n",
      "0                     False                     True           True  \n",
      "1                     False                     True           True  \n",
      "2                     False                     True           True  \n",
      "3                     False                     True           True  \n",
      "4                     False                     True           True  \n",
      "\n",
      "[5 rows x 31 columns]\n",
      "<class 'pandas.core.frame.DataFrame'>\n",
      "RangeIndex: 300153 entries, 0 to 300152\n",
      "Data columns (total 31 columns):\n",
      " #   Column                        Non-Null Count   Dtype  \n",
      "---  ------                        --------------   -----  \n",
      " 0   duration                      300153 non-null  float64\n",
      " 1   days_left                     300153 non-null  int64  \n",
      " 2   price                         300153 non-null  int64  \n",
      " 3   airline_Air_India             300153 non-null  bool   \n",
      " 4   airline_GO_FIRST              300153 non-null  bool   \n",
      " 5   airline_Indigo                300153 non-null  bool   \n",
      " 6   airline_SpiceJet              300153 non-null  bool   \n",
      " 7   airline_Vistara               300153 non-null  bool   \n",
      " 8   source_city_Chennai           300153 non-null  bool   \n",
      " 9   source_city_Delhi             300153 non-null  bool   \n",
      " 10  source_city_Hyderabad         300153 non-null  bool   \n",
      " 11  source_city_Kolkata           300153 non-null  bool   \n",
      " 12  source_city_Mumbai            300153 non-null  bool   \n",
      " 13  departure_time_Early_Morning  300153 non-null  bool   \n",
      " 14  departure_time_Evening        300153 non-null  bool   \n",
      " 15  departure_time_Late_Night     300153 non-null  bool   \n",
      " 16  departure_time_Morning        300153 non-null  bool   \n",
      " 17  departure_time_Night          300153 non-null  bool   \n",
      " 18  stops_two_or_more             300153 non-null  bool   \n",
      " 19  stops_zero                    300153 non-null  bool   \n",
      " 20  arrival_time_Early_Morning    300153 non-null  bool   \n",
      " 21  arrival_time_Evening          300153 non-null  bool   \n",
      " 22  arrival_time_Late_Night       300153 non-null  bool   \n",
      " 23  arrival_time_Morning          300153 non-null  bool   \n",
      " 24  arrival_time_Night            300153 non-null  bool   \n",
      " 25  destination_city_Chennai      300153 non-null  bool   \n",
      " 26  destination_city_Delhi        300153 non-null  bool   \n",
      " 27  destination_city_Hyderabad    300153 non-null  bool   \n",
      " 28  destination_city_Kolkata      300153 non-null  bool   \n",
      " 29  destination_city_Mumbai       300153 non-null  bool   \n",
      " 30  class_Economy                 300153 non-null  bool   \n",
      "dtypes: bool(28), float64(1), int64(2)\n",
      "memory usage: 14.9 MB\n",
      "None\n"
     ]
    }
   ],
   "source": [
    "print(df.head())\n",
    "print(df.info())"
   ]
  },
  {
   "cell_type": "markdown",
   "metadata": {},
   "source": [
    "Cek Outlier\n"
   ]
  },
  {
   "cell_type": "code",
   "execution_count": 10,
   "metadata": {},
   "outputs": [
    {
     "data": {
      "image/png": "[encoded data removed]",
      "text/plain": [
       "<Figure size 640x480 with 1 Axes>"
      ]
     },
     "metadata": {},
     "output_type": "display_data"
    }
   ],
   "source": [
    "sns.boxplot(x=df['price'])\n",
    "plt.title(\"Boxplot Harga Tiket\")\n",
    "plt.show()"
   ]
  },
  {
   "cell_type": "code",
   "execution_count": 12,
   "metadata": {},
   "outputs": [],
   "source": [
    "#buang outlier dari kolom price\n",
    "Q1 = df['price'].quantile(0.25)\n",
    "Q3 = df['price'].quantile(0.75)\n",
    "IQR = Q3 - Q1\n",
    "df = df[(df['price'] >= Q1 - 1.5 * IQR) & (df['price'] <= Q3 + 1.5 * IQR)]"
   ]
  },
  {
   "cell_type": "code",
   "execution_count": 13,
   "metadata": {},
   "outputs": [
    {
     "data": {
      "image/png": "[encoded data removed]",
      "text/plain": [
       "<Figure size 640x480 with 1 Axes>"
      ]
     },
     "metadata": {},
     "output_type": "display_data"
    }
   ],
   "source": [
    "sns.boxplot(x=df['price'])\n",
    "plt.title(\"Boxplot Harga Tiket\")\n",
    "plt.show()"
   ]
  },
  {
   "cell_type": "markdown",
   "metadata": {},
   "source": [
    "Normalisasi kolom numerik"
   ]
  },
  {
   "cell_type": "code",
   "execution_count": 17,
   "metadata": {},
   "outputs": [
    {
     "name": "stdout",
     "output_type": "stream",
     "text": [
      "Requirement already satisfied: scikit-learn in c:\\users\\acer\\appdata\\local\\programs\\python\\python311\\lib\\site-packages (1.6.1)\n",
      "Requirement already satisfied: numpy>=1.19.5 in c:\\users\\acer\\appdata\\local\\programs\\python\\python311\\lib\\site-packages (from scikit-learn) (2.1.0)\n",
      "Requirement already satisfied: scipy>=1.6.0 in c:\\users\\acer\\appdata\\local\\programs\\python\\python311\\lib\\site-packages (from scikit-learn) (1.14.1)\n",
      "Requirement already satisfied: joblib>=1.2.0 in c:\\users\\acer\\appdata\\local\\programs\\python\\python311\\lib\\site-packages (from scikit-learn) (1.4.2)\n",
      "Requirement already satisfied: threadpoolctl>=3.1.0 in c:\\users\\acer\\appdata\\local\\programs\\python\\python311\\lib\\site-packages (from scikit-learn) (3.6.0)\n"
     ]
    }
   ],
   "source": [
    "!pip install scikit-learn"
   ]
  },
  {
   "cell_type": "code",
   "execution_count": 18,
   "metadata": {},
   "outputs": [],
   "source": [
    "from sklearn.preprocessing import StandardScaler\n",
    "scaler = StandardScaler()\n",
    "num_cols = ['duration', 'days_left']\n",
    "df[num_cols] = scaler.fit_transform(df[num_cols])"
   ]
  },
  {
   "cell_type": "code",
   "execution_count": 19,
   "metadata": {},
   "outputs": [],
   "source": [
    "# Simpan hasil preprocessing\n",
    "df.to_csv(\"processed_flight_data.csv\", index=False)"
   ]
  }
 ],
 "metadata": {
  "kernelspec": {
   "display_name": "Python 3",
   "language": "python",
   "name": "python3"
  },
  "language_info": {
   "codemirror_mode": {
    "name": "ipython",
    "version": 3
   },
   "file_extension": ".py",
   "mimetype": "text/x-python",
   "name": "python",
   "nbconvert_exporter": "python",
   "pygments_lexer": "ipython3",
   "version": "3.11.2"
  }
 },
 "nbformat": 4,
 "nbformat_minor": 2
}
